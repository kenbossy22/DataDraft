{
 "cells": [
  {
   "cell_type": "code",
   "execution_count": 56,
   "metadata": {},
   "outputs": [],
   "source": [
    "## Import Pandas \n",
    "import pandas as pd \n",
    "\n",
    "\n",
    "pd.set_option('display.max_rows', 1000)\n",
    "pd.set_option('display.max_columns', 100)"
   ]
  },
  {
   "cell_type": "code",
   "execution_count": null,
   "metadata": {},
   "outputs": [],
   "source": [
    "## Connect to data source \n",
    "df = pd.read_excel(\"C:/Users/kenbo/OneDrive/Desktop/Fantasy Hockey Data Project/Rotowire Data/Rotowire Player Data 4_24_23.xlsx\")\n",
    "\n",
    "## View the first few rows of the DataFrame \n",
    "print(df.head())\n",
    "\n",
    "## Get a summary of the data statistics\n",
    "print(df.columns)"
   ]
  },
  {
   "cell_type": "code",
   "execution_count": 58,
   "metadata": {},
   "outputs": [],
   "source": [
    "## Delete first row of data \n",
    "\n",
    "## Rename column next to GWG as PPG \n",
    "\n",
    "## Rename column next to PPG as PPA \n",
    "\n",
    "## Rename column next to PPA as SHG\n",
    "\n",
    "## Rename column next to SHG as SHA "
   ]
  },
  {
   "cell_type": "code",
   "execution_count": null,
   "metadata": {},
   "outputs": [],
   "source": [
    "# Filter out players who have played less than 5 games\n",
    "df = df.loc[df['Games'] >= 5]\n",
    "\n",
    "# Calculate PPP by adding PPG and PPA\n",
    "df['PPP'] = df['PPG'] + df['PPA']\n",
    "\n",
    "# Calculate GPG, APG, PtPG, ShotsPG, HitsPG, BlocksPG, and PPPPG by dividing goals, assists, points, and PPP by games played\n",
    "df['GPG'] = df['G'] / df['Games']\n",
    "df['APG'] = df['A'] / df['Games']\n",
    "df['PtPG'] = df['Pts'] / df['Games']\n",
    "df['PPP'] = df['PPG'] + df['PPA']\n",
    "df['PPPPG'] = df['PPP'] / df['Games']\n",
    "df['ShotsPG'] = df['SOG'] / df['Games']\n",
    "df['HitsPG'] = df['Hits'] / df['Games']\n",
    "df['BlocksPG'] = df['BS'] / df['Games']\n",
    "\n",
    "print(df[['Player Name','GPG', 'APG', 'PtPG', 'PPPPG', 'ShotsPG', 'HitsPG', 'BlocksPG']])\n"
   ]
  },
  {
   "cell_type": "code",
   "execution_count": null,
   "metadata": {},
   "outputs": [],
   "source": [
    "## Calculate Percentile Ranks \n",
    "\n",
    "def percentile_rank(x):\n",
    "    \"\"\"\n",
    "    Calculate percentile rank of a pandas series or dataframe column\n",
    "    \"\"\"\n",
    "    return (x.rank(pct=True, method='min')*100).astype(float)\n",
    "\n",
    "# Filter out players who have played less than 5 games\n",
    "df = df.loc[df['Games'] >= 5]\n",
    "\n",
    "# Calculate PPP\n",
    "df['PPP'] = df['PPG'] + df['PPA']\n",
    "\n",
    "# Calculate GPG, APG, PtPG, PPPPG, ShotsPG, HitsPG, and BlocksPG by dividing goals, assists, and points by games played\n",
    "df['GPG'] = df['G'] / df['Games']\n",
    "df['APG'] = df['A'] / df['Games']\n",
    "df['PtPG'] = df['Pts'] / df['Games']\n",
    "df['PPPPG'] = df['PPP'] / df['Games']\n",
    "df['ShotsPG'] = df['SOG'] / df['Games']\n",
    "df['HitsPG'] = df['Hits'] / df['Games']\n",
    "df['BlocksPG'] = df['BS'] / df['Games']\n",
    "\n",
    "# Calculate Percentile Ranks for each metric\n",
    "df.loc[df['Games'] >= 5, 'GPG Percentile'] = percentile_rank(df.loc[df['Games'] >= 5, 'GPG'])\n",
    "df.loc[df['Games'] >= 5, 'APG Percentile'] = percentile_rank(df.loc[df['Games'] >= 5, 'APG'])\n",
    "df.loc[df['Games'] >= 5, 'PtPG Percentile'] = percentile_rank(df.loc[df['Games'] >= 5, 'PtPG'])\n",
    "df.loc[df['Games'] >= 5, 'PPPPG Percentile'] = percentile_rank(df.loc[df['Games'] >= 5, 'PPPPG'])\n",
    "df.loc[df['Games'] >= 5, 'ShotsPG Percentile'] = percentile_rank(df.loc[df['Games'] >= 5, 'ShotsPG'])\n",
    "df.loc[df['Games'] >= 5, 'HitsPG Percentile'] = percentile_rank(df.loc[df['Games'] >= 5, 'HitsPG'])\n",
    "df.loc[df['Games'] >= 5, 'BlocksPG Percentile'] = percentile_rank(df.loc[df['Games'] >= 5, 'BlocksPG'])\n",
    "\n",
    "print(df[['Player Name', 'GPG Percentile', 'APG Percentile', 'PtPG Percentile', 'PPPPG Percentile', 'ShotsPG Percentile', 'HitsPG Percentile', 'BlocksPG Percentile']])\n"
   ]
  },
  {
   "cell_type": "code",
   "execution_count": null,
   "metadata": {},
   "outputs": [],
   "source": [
    "# Calculate Player Rating\n",
    "df['Player Rating'] = df[['GPG Percentile', 'APG Percentile', 'PtPG Percentile', 'PPPPG Percentile', 'ShotsPG Percentile', 'HitsPG Percentile', 'BlocksPG Percentile']].mean(axis=1)\n",
    "\n",
    "# Sort by Player Rating in descending order\n",
    "df = df.sort_values(by='Player Rating', ascending=False)\n",
    "\n",
    "print(df[['Player Name', 'Player Rating']])\n"
   ]
  }
 ],
 "metadata": {
  "kernelspec": {
   "display_name": "Python 3",
   "language": "python",
   "name": "python3"
  },
  "language_info": {
   "codemirror_mode": {
    "name": "ipython",
    "version": 3
   },
   "file_extension": ".py",
   "mimetype": "text/x-python",
   "name": "python",
   "nbconvert_exporter": "python",
   "pygments_lexer": "ipython3",
   "version": "3.11.2"
  },
  "orig_nbformat": 4,
  "vscode": {
   "interpreter": {
    "hash": "084b3f8610bc82234d6e74717c1b935106ab56b094d525af723baf76c99827e7"
   }
  }
 },
 "nbformat": 4,
 "nbformat_minor": 2
}
